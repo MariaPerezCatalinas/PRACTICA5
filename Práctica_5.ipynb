{
  "nbformat": 4,
  "nbformat_minor": 0,
  "metadata": {
    "colab": {
      "provenance": [],
      "authorship_tag": "ABX9TyPVZIz4igiIm4wWMjhxcb2m",
      "include_colab_link": true
    },
    "kernelspec": {
      "name": "python3",
      "display_name": "Python 3"
    },
    "language_info": {
      "name": "python"
    }
  },
  "cells": [
    {
      "cell_type": "markdown",
      "metadata": {
        "id": "view-in-github",
        "colab_type": "text"
      },
      "source": [
        "<a href=\"https://colab.research.google.com/github/MariaPerezCatalinas/PRACTICA5/blob/main/Pr%C3%A1ctica_5.ipynb\" target=\"_parent\"><img src=\"https://colab.research.google.com/assets/colab-badge.svg\" alt=\"Open In Colab\"/></a>"
      ]
    },
    {
      "cell_type": "markdown",
      "metadata": {
        "id": "ufbjTrvRNJt-"
      },
      "source": [
        "# Práctica 5\n",
        "\n",
        "En esta práctica deberás implementar distintos métodos de aprendizaje semi-supervisado. \n",
        "\n",
        "## Ejercicio obligatorio: Pseudo-labeling (5 puntos)\n",
        "\n",
        "A continuación se listan una serie de datasets que están disponibles en Kaggle (algunos de los datasets seleccionados han sido recortados para que puedan entrenarse los modelos en un tiempo razonable). Para cada uno de ellos se os proporciona un enlace al dataset para que podáis descargarlo directamente. Elige uno de los siguientes datasets (o uno de tu elección) y realiza los ejercicios detallados a continuación. \n",
        "\n",
        "- [Blidness dataset](https://www.kaggle.com/c/aptos2019-blindness-detection). Enlace: https://www.dropbox.com/s/cv5dfjagvj8fqk8/blindness.zip?dl=1.\n",
        "- [Chest xRay dataset](https://www.kaggle.com/nih-chest-xrays/data). Enlace: https://www.dropbox.com/s/q6s4wu7q3yrpwrm/chest_xray.zip?dl=1.\n",
        "- [Docknet dataset](https://www.kaggle.com/gavinarmstrong/open-sprayer-images). Enlace: https://www.dropbox.com/s/a5pzvpafvgfqvf0/Docknet.zip?dl=1.\n",
        "- [Tobacco dataset](https://www.kaggle.com/sprytte/tobacco-800-dataset). Enlace: https://www.dropbox.com/s/wy44c0rsv8jogka/tobacco.zip?dl=1. "
      ]
    },
    {
      "cell_type": "markdown",
      "metadata": {
        "id": "xelL5mVMNJt_"
      },
      "source": [
        "Comienza descargando el dataset de tu elección. "
      ]
    },
    {
      "cell_type": "code",
      "execution_count": null,
      "metadata": {
        "id": "kiJk5Mg6NJuA"
      },
      "outputs": [],
      "source": [
        "%%capture\n",
        "!wget https://www.dropbox.com/s/q6s4wu7q3yrpwrm/chest_xray.zip?dl=1 -O chest_xray.zip\n",
        "!unzip chest_xray.zip"
      ]
    },
    {
      "cell_type": "markdown",
      "metadata": {
        "id": "4xg731WMNJuA"
      },
      "source": [
        "Vamos a simular un entorno semi-supervisado para lo cual tienes que reestructurar tu dataset de manera que en el conjunto de entrenamiento haya únicamente 20 imágenes por clase, y el resto de imágenes las guardarás en una carpeta llamada unlabelled. Al acabar, tu estructura de carpetas debería ser algo similar a lo siguiente:\n",
        "\n",
        "```.\n",
        "└── dataset\n",
        "    ├── test\n",
        "    │   ├── claseA\n",
        "    │   └── claseB\n",
        "    ├── train\n",
        "    │   ├── claseA\n",
        "    │   └── claseB\n",
        "    └── unlabelled\n",
        "```"
      ]
    },
    {
      "cell_type": "code",
      "execution_count": null,
      "metadata": {
        "id": "UcRAmHH_NJuA"
      },
      "outputs": [],
      "source": [
        "import os\n",
        "import shutil\n",
        "\n",
        "directorio = \"dataset\"\n",
        "\n",
        "os.mkdir(directorio)\n",
        "os.mkdir('/content/dataset/test')\n",
        "os.mkdir('/content/dataset/test/NORMAL')\n",
        "os.mkdir('/content/dataset/test/PNEUMONIA')\n",
        "os.mkdir('/content/dataset/train')\n",
        "os.mkdir('/content/dataset/train/NORMAL')\n",
        "os.mkdir('/content/dataset/train/PNEUMONIA')\n",
        "os.mkdir('/content/dataset/unlabelled')"
      ]
    },
    {
      "cell_type": "code",
      "source": [
        "# NORMAL\n",
        "directorio_origen = \"/content/chest_xray/train/NORMAL\"\n",
        "\n",
        "directorio_destino = \"/content/dataset/train/NORMAL\"\n",
        "directorio_sin_etiquetas = \"/content/dataset/unlabelled\"\n",
        "\n",
        "# Obtener la lista de archivos en el directorio de origen\n",
        "lista_archivos = os.listdir(directorio_origen)\n",
        "\n",
        "# Copiar los primeros 20 archivos\n",
        "for archivo in lista_archivos[:20]:\n",
        "  \n",
        "  archivo_origen = os.path.join(directorio_origen, archivo)\n",
        "  archivo_destino = os.path.join(directorio_destino)\n",
        "  shutil.copy(archivo_origen, archivo_destino)\n",
        "\n",
        "for archivo in lista_archivos[20:]:\n",
        "  archivo_origen = os.path.join(directorio_origen, archivo)\n",
        "  archivo_destino = os.path.join(directorio_sin_etiquetas)\n",
        "  shutil.copy(archivo_origen, archivo_destino)"
      ],
      "metadata": {
        "id": "EQKbaAuJSKFh"
      },
      "execution_count": null,
      "outputs": []
    },
    {
      "cell_type": "code",
      "source": [
        "# PNEUMONIA\n",
        "\n",
        "directorio_origen = \"/content/chest_xray/train/PNEUMONIA\"\n",
        "\n",
        "# Directorio de destino\n",
        "directorio_destino = \"/content/dataset/train/PNEUMONIA\"\n",
        "\n",
        "# Obtener la lista de archivos en el directorio de origen\n",
        "lista_archivos = os.listdir(directorio_origen)\n",
        "\n",
        "# Copiar los primeros 20 archivos\n",
        "for archivo in lista_archivos[:20]:\n",
        "\n",
        "  archivo_origen = os.path.join(directorio_origen, archivo)\n",
        "  archivo_destino = os.path.join(directorio_destino)\n",
        "  shutil.copy(archivo_origen, archivo_destino)\n",
        "\n",
        "for archivo in lista_archivos[20:]:\n",
        "  archivo_origen = os.path.join(directorio_origen, archivo)\n",
        "  archivo_destino = os.path.join(directorio_sin_etiquetas)\n",
        "  shutil.copy(archivo_origen, archivo_destino)"
      ],
      "metadata": {
        "id": "I2YyYw56drFi"
      },
      "execution_count": null,
      "outputs": []
    },
    {
      "cell_type": "code",
      "source": [
        "# Obtener la lista de archivos en el directorio de origen\n",
        "lista_archivos = os.listdir(directorio_origen)\n",
        "\n",
        "# Copiar los primeros 20 archivos\n",
        "for archivo in lista_archivos[:20]:\n",
        "  \n",
        "  archivo_origen = os.path.join(directorio_origen, archivo)\n",
        "  archivo_destino = os.path.join(directorio_destino)\n",
        "  shutil.copy(archivo_origen, archivo_destino)\n",
        "\n",
        "for archivo in lista_archivos[20:]:\n",
        "  archivo_origen = os.path.join(directorio_origen, archivo)\n",
        "  archivo_destino = os.path.join(directorio_sin_etiquetas)\n",
        "  shutil.copy(archivo_origen, archivo_destino)"
      ],
      "metadata": {
        "id": "z3yqcVI2XiSA"
      },
      "execution_count": null,
      "outputs": []
    },
    {
      "cell_type": "code",
      "source": [],
      "metadata": {
        "id": "nKS0ztI9jKjy"
      },
      "execution_count": null,
      "outputs": []
    },
    {
      "cell_type": "markdown",
      "metadata": {
        "id": "90sNzRumNJuA"
      },
      "source": [
        "Siguiendo los pasos de la práctica 1 entrena un modelo con el dataset que has creado y evalúalo en el conjunto de test. Añade a continuación todas las celdas que necesites."
      ]
    },
    {
      "cell_type": "code",
      "execution_count": null,
      "metadata": {
        "id": "eahEOXZaNJuB"
      },
      "outputs": [],
      "source": []
    },
    {
      "cell_type": "markdown",
      "metadata": {
        "id": "VN1mAxDtNJuB"
      },
      "source": [
        "Una vez que has entrenado el modelo utilizalo para aplicar la técnica de pseudo-labeling. Para ello deberás utilizar el modelo para obtener la clase de cada una de las imágenes de la carpeta ``unlabelled`` y su nivel de confianza. Crea un nuevo dataset análogo al inicial pero donde aquellas imágenes cuya predicción tenga un nivel de confianza superior a 0.8 se almacenen en la carpeta correspondiente del conjunto de entrenamiento. "
      ]
    },
    {
      "cell_type": "code",
      "execution_count": null,
      "metadata": {
        "id": "OhtB-80uNJuB"
      },
      "outputs": [],
      "source": []
    },
    {
      "cell_type": "markdown",
      "metadata": {
        "id": "kmYvi7eQNJuB"
      },
      "source": [
        "Vuelve a entrenar el modelo con el nuevo conjunto de entrenamiento, y evalúalo en el conjunto de test. "
      ]
    },
    {
      "cell_type": "code",
      "execution_count": null,
      "metadata": {
        "id": "TSCayX2NNJuB"
      },
      "outputs": [],
      "source": []
    }
  ]
}