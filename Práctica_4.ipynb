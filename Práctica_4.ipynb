{
  "nbformat": 4,
  "nbformat_minor": 0,
  "metadata": {
    "colab": {
      "provenance": [],
      "authorship_tag": "ABX9TyMqwzDTQycsE8UoVgl2dofO",
      "include_colab_link": true
    },
    "kernelspec": {
      "name": "python3",
      "display_name": "Python 3"
    },
    "language_info": {
      "name": "python"
    },
    "accelerator": "GPU",
    "gpuClass": "standard"
  },
  "cells": [
    {
      "cell_type": "markdown",
      "metadata": {
        "id": "view-in-github",
        "colab_type": "text"
      },
      "source": [
        "<a href=\"https://colab.research.google.com/github/MariaPerezCatalinas/PRACTICA5/blob/main/Pr%C3%A1ctica_4.ipynb\" target=\"_parent\"><img src=\"https://colab.research.google.com/assets/colab-badge.svg\" alt=\"Open In Colab\"/></a>"
      ]
    },
    {
      "cell_type": "markdown",
      "metadata": {
        "id": "5n31yQJEU9jB"
      },
      "source": [
        "# Práctica 4\n",
        "\n",
        "Esta práctica está dedicada a los modelos generativos. \n",
        "\n",
        "## Ejercicio obligatorio (5 puntos)\n",
        "\n",
        "En el notebook Practica4_Autoencoders se muestra cómo construir un autoencoder y un variational autoencoder para el dataset de MNIST. El ejercicio obligatorio para esta práctica consiste en crear un autoencoder y un variational autoencoder para 5 de las clases (a tu elección) del dataset [Quick, Draw!](https://quickdraw.withgoogle.com/data). El dataset Quick, Draw! está disponible [aquí](https://console.cloud.google.com/storage/browser/quickdraw_dataset/full/numpy_bitmap;tab=objects?pli=1&prefix=&forceOnObjectsSortingFiltering=false) en forma de ficheros numpy. Si pulsas sobre cualquier de los ficheros verás que se proporciona una URL pública para descargarlo. Una vez que los descargues en el entorno para cargarlos debes usar los siguientes comandos (se muestra un ejemplo para los datos de la clase eifel).  "
      ]
    },
    {
      "cell_type": "code",
      "execution_count": 2,
      "metadata": {
        "outputId": "3b0f9b24-14f9-4ace-bc42-14bb27565171",
        "colab": {
          "base_uri": "https://localhost:8080/"
        },
        "id": "k7YuDG1DU9jC"
      },
      "outputs": [
        {
          "output_type": "stream",
          "name": "stdout",
          "text": [
            "--2023-04-25 21:39:42--  https://storage.googleapis.com/quickdraw_dataset/full/numpy_bitmap/The%20Eiffel%20Tower.npy\n",
            "Resolving storage.googleapis.com (storage.googleapis.com)... 142.250.4.128, 142.251.10.128, 142.251.12.128, ...\n",
            "Connecting to storage.googleapis.com (storage.googleapis.com)|142.250.4.128|:443... connected.\n",
            "HTTP request sent, awaiting response... 200 OK\n",
            "Length: 105684064 (101M) [application/octet-stream]\n",
            "Saving to: ‘eiffel.npy’\n",
            "\n",
            "eiffel.npy          100%[===================>] 100.79M  23.7MB/s    in 5.1s    \n",
            "\n",
            "2023-04-25 21:39:47 (19.8 MB/s) - ‘eiffel.npy’ saved [105684064/105684064]\n",
            "\n"
          ]
        }
      ],
      "source": [
        "import numpy as np\n",
        "!wget https://storage.googleapis.com/quickdraw_dataset/full/numpy_bitmap/The%20Eiffel%20Tower.npy -O eiffel.npy\n",
        "eiffel = np.load('eiffel.npy')"
      ]
    },
    {
      "cell_type": "markdown",
      "metadata": {
        "id": "DqZ3keoixt1t"
      },
      "source": [
        "Podemos ver la forma que tienen estos datos que aunque son imágenes de tamaño $28\\times 28$ están aplanados. "
      ]
    },
    {
      "cell_type": "code",
      "execution_count": 3,
      "metadata": {
        "id": "aON0U2yJxt1t",
        "outputId": "343ccd66-3ffc-40c3-e99d-d13ff9abb9fb",
        "colab": {
          "base_uri": "https://localhost:8080/"
        }
      },
      "outputs": [
        {
          "output_type": "execute_result",
          "data": {
            "text/plain": [
              "(134801, 784)"
            ]
          },
          "metadata": {},
          "execution_count": 3
        }
      ],
      "source": [
        "eiffel.shape"
      ]
    },
    {
      "cell_type": "markdown",
      "metadata": {
        "id": "pt6Ll1bDxt1u"
      },
      "source": [
        "Para cambiar su shape puedes hacer lo siguiente:"
      ]
    },
    {
      "cell_type": "code",
      "execution_count": 4,
      "metadata": {
        "id": "Lr-HE2P1xt1u"
      },
      "outputs": [],
      "source": [
        "eiffel2 = np.reshape(eiffel,(134801, 28,28))"
      ]
    },
    {
      "cell_type": "code",
      "execution_count": 5,
      "metadata": {
        "id": "imJX62gVxt1v",
        "outputId": "898321f6-bd2e-4a28-afa3-d73111b404cd",
        "colab": {
          "base_uri": "https://localhost:8080/"
        }
      },
      "outputs": [
        {
          "output_type": "execute_result",
          "data": {
            "text/plain": [
              "(134801, 28, 28)"
            ]
          },
          "metadata": {},
          "execution_count": 5
        }
      ],
      "source": [
        "eiffel2.shape"
      ]
    },
    {
      "cell_type": "markdown",
      "metadata": {
        "id": "XXW4N_h4xt1v"
      },
      "source": [
        "Podemos ahora mostrar una de esos garabatos de la torre Eiffel. "
      ]
    },
    {
      "cell_type": "code",
      "execution_count": 6,
      "metadata": {
        "id": "qLsMtwu8xt1v",
        "outputId": "4f1da30f-8fa6-4ec5-f09e-b8c58191fd00",
        "colab": {
          "base_uri": "https://localhost:8080/",
          "height": 45
        }
      },
      "outputs": [
        {
          "output_type": "execute_result",
          "data": {
            "text/plain": [
              "<PIL.Image.Image image mode=L size=28x28 at 0x7FB894079D30>"
            ],
            "image/png": "[encoded data removed]"
          },
          "metadata": {},
          "execution_count": 6
        }
      ],
      "source": [
        "from PIL import Image\n",
        "Image.fromarray(eiffel2[0])"
      ]
    },
    {
      "cell_type": "markdown",
      "metadata": {
        "id": "uXG0GTgXxt1w"
      },
      "source": [
        "## Ejercicios opcionales\n",
        "\n",
        "Para cada uno de los ejercicios opcionales crea un nuevo notebook dedicado a ello. \n",
        "\n",
        "- *GAN* (1 punto). Siguiendo el [tutorial de Keras sobre GANs](https://keras.io/examples/generative/dcgan_overriding_train_step/) reemplaza el variational autoencoder desarrollado en el ejercicio obligatorio con una GAN. \n",
        "- *Wasserstein GAN* (1 punto). Una manera de mejorar los resultados producidos por las GANs consiste en utilizar una variante llamada [Wasserstein GAN](https://arxiv.org/abs/1701.07875). Siguiendo el [tutorial de Keras sobre Wasserstein GANs](https://keras.io/examples/generative/wgan_gp/) reemplaza la GAN desarrollada en el ejercicio anterior con una Wasserstein GAN. \n",
        "- *Coloreado de imágenes* (1.5 puntos). Las GANs pueden usarse para tareas como la superresolución o el coloreado de imágenes. En el tutorioal de [Walk with FastAI](https://walkwithfastai.com/Super_Resolution) se explica cómo utilizar una GAN para obtener un modelo de super resolución. El ejercicio consiste en adaptar dicho modelo para el coloreado de imágenes.  \n",
        "- *CycleGAN* (1.5 puntos). La librería [UPIT](https://github.com/tmabraham/UPIT) implementa un método de traducción entre imágenes sin emparejar llamado [CycleGAN](https://junyanz.github.io/CycleGAN/). Usando dicha librería crea un modelo para transformar manzanas a naranjas. Para ello puedes utilizar este notebook disponible en [Kaggle](https://www.kaggle.com/tanlikesmath/upit-a-package-for-unpaired-img2img-translation)."
      ]
    },
    {
      "cell_type": "markdown",
      "metadata": {
        "id": "Q-xuBIJLxt1x"
      },
      "source": [
        "Al finalizar, recuerda guardar los cambios en GitHub utilizando la opción Archivo -> Guardar una copia en GitHub.\n"
      ]
    },
    {
      "cell_type": "markdown",
      "source": [
        "# EJERCICIO OBLIGATORIO"
      ],
      "metadata": {
        "id": "2-UaOP_sZppu"
      }
    },
    {
      "cell_type": "code",
      "source": [
        "import numpy as np\n",
        "import tensorflow as tf\n",
        "from tensorflow import keras\n",
        "from tensorflow.keras import layers\n",
        "from tensorflow.keras import backend as K\n",
        "import warnings\n",
        "warnings.filterwarnings(\"ignore\")\n",
        "import matplotlib.pyplot as plt"
      ],
      "metadata": {
        "id": "e6HSTPJie5Vw"
      },
      "execution_count": 7,
      "outputs": []
    },
    {
      "cell_type": "code",
      "source": [
        "import numpy as np\n",
        "!wget https://storage.googleapis.com/quickdraw_dataset/full/numpy_bitmap/alarm%20clock.npy -O alarm.npy\n",
        "alarm = np.load('alarm.npy')"
      ],
      "metadata": {
        "id": "BIOrnPXeZo4O",
        "outputId": "50f6ab30-387d-4759-b889-2123961cc54c",
        "colab": {
          "base_uri": "https://localhost:8080/"
        }
      },
      "execution_count": 8,
      "outputs": [
        {
          "output_type": "stream",
          "name": "stdout",
          "text": [
            "--2023-04-25 21:39:54--  https://storage.googleapis.com/quickdraw_dataset/full/numpy_bitmap/alarm%20clock.npy\n",
            "Resolving storage.googleapis.com (storage.googleapis.com)... 142.250.4.128, 142.251.10.128, 142.251.12.128, ...\n",
            "Connecting to storage.googleapis.com (storage.googleapis.com)|142.250.4.128|:443... connected.\n",
            "HTTP request sent, awaiting response... 200 OK\n",
            "Length: 96744896 (92M) [application/octet-stream]\n",
            "Saving to: ‘alarm.npy’\n",
            "\n",
            "alarm.npy           100%[===================>]  92.26M  23.8MB/s    in 4.8s    \n",
            "\n",
            "2023-04-25 21:39:59 (19.3 MB/s) - ‘alarm.npy’ saved [96744896/96744896]\n",
            "\n"
          ]
        }
      ]
    },
    {
      "cell_type": "code",
      "source": [
        "import numpy as np\n",
        "!wget https://storage.googleapis.com/quickdraw_dataset/full/numpy_bitmap/beach.npy -O beach.npy\n",
        "beach = np.load('beach.npy')"
      ],
      "metadata": {
        "id": "tGZO5h-BbAA_",
        "outputId": "cfa4f345-0953-43dc-897c-424ff77bec49",
        "colab": {
          "base_uri": "https://localhost:8080/"
        }
      },
      "execution_count": 9,
      "outputs": [
        {
          "output_type": "stream",
          "name": "stdout",
          "text": [
            "--2023-04-25 21:39:59--  https://storage.googleapis.com/quickdraw_dataset/full/numpy_bitmap/beach.npy\n",
            "Resolving storage.googleapis.com (storage.googleapis.com)... 142.250.4.128, 142.251.10.128, 142.251.12.128, ...\n",
            "Connecting to storage.googleapis.com (storage.googleapis.com)|142.250.4.128|:443... connected.\n",
            "HTTP request sent, awaiting response... 200 OK\n",
            "Length: 97951472 (93M) [application/octet-stream]\n",
            "Saving to: ‘beach.npy’\n",
            "\n",
            "beach.npy           100%[===================>]  93.41M  23.7MB/s    in 4.7s    \n",
            "\n",
            "2023-04-25 21:40:04 (19.9 MB/s) - ‘beach.npy’ saved [97951472/97951472]\n",
            "\n"
          ]
        }
      ]
    },
    {
      "cell_type": "code",
      "source": [
        "import numpy as np\n",
        "!wget https://storage.googleapis.com/quickdraw_dataset/full/numpy_bitmap/birthday%20cake.npy -O bdaycake.npy\n",
        "bdaycake = np.load('bdaycake.npy')"
      ],
      "metadata": {
        "id": "1EjKHOw0bNxX",
        "outputId": "2934309e-9ee9-4649-c8be-ec4ac894c0de",
        "colab": {
          "base_uri": "https://localhost:8080/"
        }
      },
      "execution_count": 10,
      "outputs": [
        {
          "output_type": "stream",
          "name": "stdout",
          "text": [
            "--2023-04-25 21:40:05--  https://storage.googleapis.com/quickdraw_dataset/full/numpy_bitmap/birthday%20cake.npy\n",
            "Resolving storage.googleapis.com (storage.googleapis.com)... 142.250.4.128, 142.251.10.128, 142.251.12.128, ...\n",
            "Connecting to storage.googleapis.com (storage.googleapis.com)|142.250.4.128|:443... connected.\n",
            "HTTP request sent, awaiting response... 200 OK\n",
            "Length: 113665968 (108M) [application/octet-stream]\n",
            "Saving to: ‘bdaycake.npy’\n",
            "\n",
            "bdaycake.npy        100%[===================>] 108.40M  23.7MB/s    in 5.5s    \n",
            "\n",
            "2023-04-25 21:40:10 (19.8 MB/s) - ‘bdaycake.npy’ saved [113665968/113665968]\n",
            "\n"
          ]
        }
      ]
    },
    {
      "cell_type": "code",
      "source": [
        "import numpy as np\n",
        "!wget https://storage.googleapis.com/quickdraw_dataset/full/numpy_bitmap/diamond.npy -O diamond.npy\n",
        "diamond = np.load('diamond.npy')"
      ],
      "metadata": {
        "id": "KWpLZv4KbYse",
        "outputId": "a24d4f8b-83b9-47cb-dcc3-2d90626d9443",
        "colab": {
          "base_uri": "https://localhost:8080/"
        }
      },
      "execution_count": 11,
      "outputs": [
        {
          "output_type": "stream",
          "name": "stdout",
          "text": [
            "--2023-04-25 21:40:10--  https://storage.googleapis.com/quickdraw_dataset/full/numpy_bitmap/diamond.npy\n",
            "Resolving storage.googleapis.com (storage.googleapis.com)... 74.125.24.128, 142.250.4.128, 142.251.10.128, ...\n",
            "Connecting to storage.googleapis.com (storage.googleapis.com)|74.125.24.128|:443... connected.\n",
            "HTTP request sent, awaiting response... 200 OK\n",
            "Length: 103164288 (98M) [application/octet-stream]\n",
            "Saving to: ‘diamond.npy’\n",
            "\n",
            "diamond.npy         100%[===================>]  98.38M  24.0MB/s    in 5.0s    \n",
            "\n",
            "2023-04-25 21:40:16 (19.8 MB/s) - ‘diamond.npy’ saved [103164288/103164288]\n",
            "\n"
          ]
        }
      ]
    },
    {
      "cell_type": "code",
      "source": [
        "import numpy as np\n",
        "!wget https://storage.googleapis.com/quickdraw_dataset/full/numpy_bitmap/eye.npy -O eye.npy\n",
        "eye = np.load('eye.npy')"
      ],
      "metadata": {
        "id": "cLg2TeYYbY4-",
        "outputId": "d1df4e8b-6292-4d9f-cb37-d783f5abf511",
        "colab": {
          "base_uri": "https://localhost:8080/"
        }
      },
      "execution_count": 12,
      "outputs": [
        {
          "output_type": "stream",
          "name": "stdout",
          "text": [
            "--2023-04-25 21:40:16--  https://storage.googleapis.com/quickdraw_dataset/full/numpy_bitmap/eye.npy\n",
            "Resolving storage.googleapis.com (storage.googleapis.com)... 74.125.24.128, 142.250.4.128, 142.251.10.128, ...\n",
            "Connecting to storage.googleapis.com (storage.googleapis.com)|74.125.24.128|:443... connected.\n",
            "HTTP request sent, awaiting response... 200 OK\n",
            "Length: 98696272 (94M) [application/octet-stream]\n",
            "Saving to: ‘eye.npy’\n",
            "\n",
            "eye.npy             100%[===================>]  94.12M  23.9MB/s    in 4.8s    \n",
            "\n",
            "2023-04-25 21:40:21 (19.7 MB/s) - ‘eye.npy’ saved [98696272/98696272]\n",
            "\n"
          ]
        }
      ]
    },
    {
      "cell_type": "code",
      "source": [
        "alarm = np.reshape(alarm, (alarm.shape[0],28,28))\n",
        "\n",
        "beach = np.reshape(beach, (beach.shape[0],28,28))\n",
        "\n",
        "bdaycake = np.reshape(bdaycake, (bdaycake.shape[0],28,28))\n",
        "\n",
        "diamond = np.reshape(diamond, (diamond.shape[0],28,28))\n",
        "\n",
        "eye = np.reshape(eye, (eye.shape[0],28,28))"
      ],
      "metadata": {
        "id": "kdsFSdF8adLG"
      },
      "execution_count": 13,
      "outputs": []
    },
    {
      "cell_type": "code",
      "source": [
        "print('Las dimensiones de la alarma son : ', alarm.shape)\n",
        "\n",
        "print('Las dimensiones de la playa son : ', beach.shape)\n",
        "\n",
        "print('Las dimensiones de la tarta de cumpleaños son : ', bdaycake.shape)\n",
        "\n",
        "print('Las dimensiones del diamante son : ', diamond.shape)\n",
        "\n",
        "print('Las dimensiones del ojo  son : ', eye.shape)"
      ],
      "metadata": {
        "id": "auFxxt7iadOm",
        "outputId": "1b2e4527-62a0-4f5f-8078-c5fb8dd4b732",
        "colab": {
          "base_uri": "https://localhost:8080/"
        }
      },
      "execution_count": 14,
      "outputs": [
        {
          "output_type": "stream",
          "name": "stdout",
          "text": [
            "Las dimensiones de la alarma son :  (123399, 28, 28)\n",
            "Las dimensiones de la playa son :  (124938, 28, 28)\n",
            "Las dimensiones de la tarta de cumpleaños son :  (144982, 28, 28)\n",
            "Las dimensiones del diamante son :  (131587, 28, 28)\n",
            "Las dimensiones del ojo  son :  (125888, 28, 28)\n"
          ]
        }
      ]
    },
    {
      "cell_type": "code",
      "source": [
        "from PIL import Image\n",
        "Image.fromarray(alarm[0])"
      ],
      "metadata": {
        "id": "Fz7AxcGpap5d",
        "outputId": "4928e566-6ebe-4a4b-9752-bf37d337fc5d",
        "colab": {
          "base_uri": "https://localhost:8080/",
          "height": 45
        }
      },
      "execution_count": 17,
      "outputs": [
        {
          "output_type": "execute_result",
          "data": {
            "text/plain": [
              "<PIL.Image.Image image mode=L size=28x28 at 0x7FB80B7BCD90>"
            ],
            "image/png": "[encoded data removed]"
          },
          "metadata": {},
          "execution_count": 17
        }
      ]
    },
    {
      "cell_type": "code",
      "source": [
        "from PIL import Image\n",
        "Image.fromarray(beach[0])"
      ],
      "metadata": {
        "id": "rs_8LaiNchvk",
        "outputId": "fa938fe5-2983-4b9c-bf35-2a0450edd587",
        "colab": {
          "base_uri": "https://localhost:8080/",
          "height": 45
        }
      },
      "execution_count": 18,
      "outputs": [
        {
          "output_type": "execute_result",
          "data": {
            "text/plain": [
              "<PIL.Image.Image image mode=L size=28x28 at 0x7FB80B7BCAF0>"
            ],
            "image/png": "[encoded data removed]"
          },
          "metadata": {},
          "execution_count": 18
        }
      ]
    },
    {
      "cell_type": "code",
      "source": [
        "from PIL import Image\n",
        "Image.fromarray(bdaycake[0])"
      ],
      "metadata": {
        "id": "sTl5YorlclMj",
        "outputId": "e67fdf2a-d6f4-40d3-ca21-a21c7ad2a4ae",
        "colab": {
          "base_uri": "https://localhost:8080/",
          "height": 45
        }
      },
      "execution_count": 19,
      "outputs": [
        {
          "output_type": "execute_result",
          "data": {
            "text/plain": [
              "<PIL.Image.Image image mode=L size=28x28 at 0x7FB80B7BCA60>"
            ],
            "image/png": "[encoded data removed]"
          },
          "metadata": {},
          "execution_count": 19
        }
      ]
    },
    {
      "cell_type": "code",
      "source": [
        "from PIL import Image\n",
        "Image.fromarray(diamond[0])"
      ],
      "metadata": {
        "id": "wXQcyJUVclQI",
        "outputId": "372e349d-695c-4eac-bd78-d3e5f38e2f54",
        "colab": {
          "base_uri": "https://localhost:8080/",
          "height": 45
        }
      },
      "execution_count": 20,
      "outputs": [
        {
          "output_type": "execute_result",
          "data": {
            "text/plain": [
              "<PIL.Image.Image image mode=L size=28x28 at 0x7FB80B7BC8E0>"
            ],
            "image/png": "[encoded data removed]"
          },
          "metadata": {},
          "execution_count": 20
        }
      ]
    },
    {
      "cell_type": "code",
      "source": [
        "from PIL import Image\n",
        "Image.fromarray(eye[0])"
      ],
      "metadata": {
        "id": "Sy0CDZoUclU2",
        "outputId": "e2996429-bf58-43e9-c13c-57b6fe93794d",
        "colab": {
          "base_uri": "https://localhost:8080/",
          "height": 45
        }
      },
      "execution_count": 21,
      "outputs": [
        {
          "output_type": "execute_result",
          "data": {
            "text/plain": [
              "<PIL.Image.Image image mode=L size=28x28 at 0x7FB80B7BCA90>"
            ],
            "image/png": "[encoded data removed]"
          },
          "metadata": {},
          "execution_count": 21
        }
      ]
    },
    {
      "cell_type": "code",
      "source": [
        "dim_alarm = int(np.round(alarm.shape[0] * 0.8))\n",
        "\n",
        "dim_beach = int(np.round(beach.shape[0] * 0.8))\n",
        "\n",
        "dim_bdaycake = int(np.round(bdaycake.shape[0] * 0.8))\n",
        "\n",
        "dim_diamond = int(np.round(diamond.shape[0] * 0.8))\n",
        "\n",
        "dim_eye = int(np.round(eye.shape[0] * 0.8))"
      ],
      "metadata": {
        "id": "vg75BNGww09W"
      },
      "execution_count": 22,
      "outputs": []
    },
    {
      "cell_type": "code",
      "source": [
        "x_train = alarm[:dim_alarm,:,:]\n",
        "\n",
        "x_train = np.concatenate((x_train, beach[:dim_beach,:,:]))\n",
        "\n",
        "x_train = np.concatenate((x_train, bdaycake[:dim_bdaycake,:,:]))\n",
        "\n",
        "x_train = np.concatenate((x_train, diamond[:dim_diamond,:,:]))\n",
        "\n",
        "x_train = np.concatenate((x_train, eye[:dim_eye,:,:]))\n"
      ],
      "metadata": {
        "id": "TFDqgGMNxIIT"
      },
      "execution_count": 43,
      "outputs": []
    },
    {
      "cell_type": "code",
      "source": [
        "x_test = alarm[dim_alarm:,:,:]\n",
        "\n",
        "x_test= np.concatenate((x_test, beach[dim_beach:,:,:]))\n",
        "\n",
        "x_test = np.concatenate((x_test, bdaycake[dim_bdaycake:,:,:]))\n",
        "\n",
        "x_test = np.concatenate((x_test, diamond[dim_diamond:,:,:]))\n",
        "\n",
        "x_test = np.concatenate((x_test, eye[dim_eye:,:,:]))"
      ],
      "metadata": {
        "id": "vejhfa5wdfp-"
      },
      "execution_count": 44,
      "outputs": []
    },
    {
      "cell_type": "code",
      "source": [
        "#x_train = np.reshape(x_train, (len(x_train), 28, 28, 1))\n",
        "#x_test = np.reshape(x_test, (len(x_test), 28, 28, 1))"
      ],
      "metadata": {
        "id": "VY95P_JQgiRd"
      },
      "execution_count": 25,
      "outputs": []
    },
    {
      "cell_type": "markdown",
      "metadata": {
        "id": "SW3nKLa2TPgE"
      },
      "source": [
        "### Autoencoder\n",
        "\n",
        "Pasamos ahora a definir la arquitectura de nuestro autoencoder. Para ello lo primero que debemos hacer es definir la forma que tendrán los datos de entrada de nuestro autoencoder."
      ]
    },
    {
      "cell_type": "code",
      "metadata": {
        "id": "0Po4yu_YTPgE"
      },
      "source": [
        "input_img = layers.Input(shape=(28,28,1))"
      ],
      "execution_count": 26,
      "outputs": []
    },
    {
      "cell_type": "markdown",
      "metadata": {
        "id": "0OzkYfQLTPgG"
      },
      "source": [
        "Recordar que un autoencoder consta de un encoder y un decoder. Definimos a continuación nuestro encoder que va a constar de una pila de capas de convolución y de max pooling. Al aplicar el proceso de encoding llegamos a una reprentación final de tamaño (4,4,8) es decir 128 dimensiones, es decir hemos reducido casi a una sexta parte la codificación de nuestras imágenes."
      ]
    },
    {
      "cell_type": "code",
      "metadata": {
        "id": "MPkR6vRxTPgG"
      },
      "source": [
        "# Capa convolucional con 32 filtros de tamaño 3x3 seguida de una función de activación relu y aplicando padding\n",
        "x = layers.Conv2D(32, (3, 3), activation='relu', padding='same')(input_img)\n",
        "# Capa de max pooling con filtro de tamaño 2x2 y aplicando padding\n",
        "x = layers.MaxPooling2D((2, 2), padding='same')(x)\n",
        "x = layers.Conv2D(32, (3, 3), activation='relu', padding='same')(x)\n",
        "encoded = layers.MaxPooling2D((2, 2), padding='same')(x)"
      ],
      "execution_count": 45,
      "outputs": []
    },
    {
      "cell_type": "markdown",
      "metadata": {
        "id": "xhmcjN4gTPgH"
      },
      "source": [
        "El decoder se define mediante una pila de capas de convolución y de upsampling (capas con la función inversa que las de pooling). Notar que la entrada de la primera capa del decoder es la salida del encoder. Notar que la arquitectura es simétrica a la del encoder. "
      ]
    },
    {
      "cell_type": "code",
      "metadata": {
        "id": "pr1Smo36TPgH"
      },
      "source": [
        "# Capa convolucional con 32 filtros de tamaño 3x3 seguida de una función de activación relu y aplicando padding\n",
        "x = layers.Conv2D(32, (3, 3), activation='relu', padding='same')(encoded)\n",
        " # Capa de upsampling con filtro de tamaño 2x2 y aplicando padding\n",
        "x = layers.UpSampling2D((2, 2))(x)\n",
        "x = layers.Conv2D(32, (3, 3), activation='relu', padding='same')(x)\n",
        "x = layers.UpSampling2D((2, 2))(x)\n",
        "decoded = layers.Conv2D(1, (3, 3), activation='sigmoid', padding='same')(x)"
      ],
      "execution_count": 46,
      "outputs": []
    },
    {
      "cell_type": "markdown",
      "metadata": {
        "id": "ZeuPD5PNTPgH"
      },
      "source": [
        "Por último definimos nuestro modelo de autoencoder y lo compilamos. En Keras es necesario compilar un modelo para fijar el optimizador que se utilizará para entrenarlo (en este caso [ADAM](https://arxiv.org/abs/1412.6980) que es una variante del descenso de gradiente) y la función de pérdida (en este caso la [binary crossentropy](https://keras.io/api/losses/probabilistic_losses/#binarycrossentropy-class))."
      ]
    },
    {
      "cell_type": "code",
      "metadata": {
        "id": "AGSmnB3-TPgI"
      },
      "source": [
        "autoencoder = keras.Model(input_img, decoded)\n",
        "autoencoder.compile(optimizer='adam', loss='binary_crossentropy')"
      ],
      "execution_count": 47,
      "outputs": []
    },
    {
      "cell_type": "markdown",
      "metadata": {
        "id": "Hw_4n5YxTPgI"
      },
      "source": [
        "Con la siguiente instrucción podemos mostrar la arquitectura de una red de Keras. "
      ]
    },
    {
      "cell_type": "code",
      "metadata": {
        "id": "StOq_R4dTPgI",
        "outputId": "84dea267-bf0b-4567-f4a9-b01bb02c7b0d",
        "colab": {
          "base_uri": "https://localhost:8080/"
        }
      },
      "source": [
        "autoencoder.summary()"
      ],
      "execution_count": 48,
      "outputs": [
        {
          "output_type": "stream",
          "name": "stdout",
          "text": [
            "Model: \"model_1\"\n",
            "_________________________________________________________________\n",
            " Layer (type)                Output Shape              Param #   \n",
            "=================================================================\n",
            " input_1 (InputLayer)        [(None, 28, 28, 1)]       0         \n",
            "                                                                 \n",
            " conv2d_7 (Conv2D)           (None, 28, 28, 32)        320       \n",
            "                                                                 \n",
            " max_pooling2d_2 (MaxPooling  (None, 14, 14, 32)       0         \n",
            " 2D)                                                             \n",
            "                                                                 \n",
            " conv2d_8 (Conv2D)           (None, 14, 14, 32)        9248      \n",
            "                                                                 \n",
            " max_pooling2d_3 (MaxPooling  (None, 7, 7, 32)         0         \n",
            " 2D)                                                             \n",
            "                                                                 \n",
            " conv2d_9 (Conv2D)           (None, 7, 7, 32)          9248      \n",
            "                                                                 \n",
            " up_sampling2d_2 (UpSampling  (None, 14, 14, 32)       0         \n",
            " 2D)                                                             \n",
            "                                                                 \n",
            " conv2d_10 (Conv2D)          (None, 14, 14, 32)        9248      \n",
            "                                                                 \n",
            " up_sampling2d_3 (UpSampling  (None, 28, 28, 32)       0         \n",
            " 2D)                                                             \n",
            "                                                                 \n",
            " conv2d_11 (Conv2D)          (None, 28, 28, 1)         289       \n",
            "                                                                 \n",
            "=================================================================\n",
            "Total params: 28,353\n",
            "Trainable params: 28,353\n",
            "Non-trainable params: 0\n",
            "_________________________________________________________________\n"
          ]
        }
      ]
    },
    {
      "cell_type": "markdown",
      "metadata": {
        "id": "i3tT1ekqTPgI"
      },
      "source": [
        "También puede ser útil visualizar dicha red."
      ]
    },
    {
      "cell_type": "code",
      "metadata": {
        "id": "qu524uFXTPgI",
        "outputId": "00120e83-c17d-4b32-b2e5-06b5174f9b0b",
        "colab": {
          "base_uri": "https://localhost:8080/",
          "height": 1000
        }
      },
      "source": [
        "from keras.utils.vis_utils import plot_model\n",
        "plot_model(autoencoder, to_file='autoencoder_plot.png', show_shapes=True, show_layer_names=True)"
      ],
      "execution_count": 49,
      "outputs": [
        {
          "output_type": "execute_result",
          "data": {
            "image/png": "[encoded data removed]",
            "text/plain": [
              "<IPython.core.display.Image object>"
            ]
          },
          "metadata": {},
          "execution_count": 49
        }
      ]
    },
    {
      "cell_type": "markdown",
      "metadata": {
        "id": "Y8uE2v2sTPgJ"
      },
      "source": [
        "Vamos ahora a entrenar nuestro modelo para ello usamos el método `fit` que está disponible para cualquier modelo de Keras."
      ]
    },
    {
      "cell_type": "code",
      "metadata": {
        "id": "6-hySwByTPgJ",
        "outputId": "4c734ec1-4f3a-4cd5-af58-758924fbf3ae",
        "colab": {
          "base_uri": "https://localhost:8080/"
        }
      },
      "source": [
        "autoencoder.fit(x_train, x_train,\n",
        "                epochs=20,\n",
        "                batch_size=128,\n",
        "                validation_data=(x_test, x_test))"
      ],
      "execution_count": 50,
      "outputs": [
        {
          "output_type": "stream",
          "name": "stdout",
          "text": [
            "Epoch 1/20\n",
            "4068/4068 [==============================] - 29s 7ms/step - loss: -661.2930 - val_loss: -661.1474\n",
            "Epoch 2/20\n",
            "4068/4068 [==============================] - 29s 7ms/step - loss: -661.8810 - val_loss: -661.3652\n",
            "Epoch 3/20\n",
            "4068/4068 [==============================] - 26s 6ms/step - loss: -662.0682 - val_loss: -661.5139\n",
            "Epoch 4/20\n",
            "4068/4068 [==============================] - 29s 7ms/step - loss: -662.1789 - val_loss: -661.5854\n",
            "Epoch 5/20\n",
            "4068/4068 [==============================] - 26s 6ms/step - loss: -662.2401 - val_loss: -661.6050\n",
            "Epoch 6/20\n",
            "4068/4068 [==============================] - 26s 6ms/step - loss: -662.2869 - val_loss: -661.6691\n",
            "Epoch 7/20\n",
            "4068/4068 [==============================] - 26s 6ms/step - loss: -662.3117 - val_loss: -661.6865\n",
            "Epoch 8/20\n",
            "4068/4068 [==============================] - 27s 7ms/step - loss: -662.3295 - val_loss: -661.6827\n",
            "Epoch 9/20\n",
            "4068/4068 [==============================] - 29s 7ms/step - loss: -662.3424 - val_loss: -661.6876\n",
            "Epoch 10/20\n",
            "4068/4068 [==============================] - 27s 7ms/step - loss: -662.3495 - val_loss: -661.7189\n",
            "Epoch 11/20\n",
            "4068/4068 [==============================] - 29s 7ms/step - loss: -662.3509 - val_loss: -661.7064\n",
            "Epoch 12/20\n",
            "4068/4068 [==============================] - 26s 6ms/step - loss: -662.3564 - val_loss: -661.6774\n",
            "Epoch 13/20\n",
            "4068/4068 [==============================] - 29s 7ms/step - loss: -662.3585 - val_loss: -661.7425\n",
            "Epoch 14/20\n",
            "4068/4068 [==============================] - 29s 7ms/step - loss: -662.3580 - val_loss: -661.7079\n",
            "Epoch 15/20\n",
            "4068/4068 [==============================] - 26s 6ms/step - loss: -662.3589 - val_loss: -661.7095\n",
            "Epoch 16/20\n",
            "4068/4068 [==============================] - 30s 7ms/step - loss: -662.3544 - val_loss: -661.7277\n",
            "Epoch 17/20\n",
            "4068/4068 [==============================] - 29s 7ms/step - loss: -662.3531 - val_loss: -661.7052\n",
            "Epoch 18/20\n",
            "4068/4068 [==============================] - 27s 7ms/step - loss: -662.3494 - val_loss: -661.7263\n",
            "Epoch 19/20\n",
            "4068/4068 [==============================] - 29s 7ms/step - loss: -662.3378 - val_loss: -661.7290\n",
            "Epoch 20/20\n",
            "4068/4068 [==============================] - 29s 7ms/step - loss: -662.3352 - val_loss: -661.6953\n"
          ]
        },
        {
          "output_type": "execute_result",
          "data": {
            "text/plain": [
              "<keras.callbacks.History at 0x7fb7e21f4f40>"
            ]
          },
          "metadata": {},
          "execution_count": 50
        }
      ]
    },
    {
      "cell_type": "markdown",
      "metadata": {
        "id": "fxrhcJDMTPgJ"
      },
      "source": [
        "Vamos a mostrar la reconstrucción de algunos de los dígitos. Al ejecutar la siguiente celda, la primera fila muestra los dígitos originales y la segunda los reconstruidos. "
      ]
    },
    {
      "cell_type": "code",
      "metadata": {
        "id": "Xovf6V3hTPgJ",
        "outputId": "cbf2ac32-1771-47f1-a84f-4338310e1dd2",
        "colab": {
          "base_uri": "https://localhost:8080/",
          "height": 353
        }
      },
      "source": [
        "decoded_imgs = autoencoder.predict(x_test)\n",
        "\n",
        "n = 10\n",
        "plt.figure(figsize=(20, 4))\n",
        "for i in range(1,n):\n",
        "    ax = plt.subplot(2, n, i)\n",
        "    plt.imshow(x_test[i].reshape(28, 28))\n",
        "    plt.gray()\n",
        "    ax.get_xaxis().set_visible(False)\n",
        "    ax.get_yaxis().set_visible(False)\n",
        "\n",
        "    ax = plt.subplot(2, n, i + n)\n",
        "    plt.imshow(decoded_imgs[i].reshape(28, 28))\n",
        "    plt.gray()\n",
        "    ax.get_xaxis().set_visible(False)\n",
        "    ax.get_yaxis().set_visible(False)\n",
        "plt.show()"
      ],
      "execution_count": 33,
      "outputs": [
        {
          "output_type": "stream",
          "name": "stdout",
          "text": [
            "4068/4068 [==============================] - 8s 2ms/step\n"
          ]
        },
        {
          "output_type": "display_data",
          "data": {
            "text/plain": [
              "<Figure size 2000x400 with 18 Axes>"
            ],
            "image/png": "[encoded data removed]"
          },
          "metadata": {}
        }
      ]
    },
    {
      "cell_type": "code",
      "source": [
        "decoded_imgs"
      ],
      "metadata": {
        "colab": {
          "base_uri": "https://localhost:8080/"
        },
        "id": "h29MqenEZ-TC",
        "outputId": "e36abac1-b141-4dc8-9cda-c2bfe85e490e"
      },
      "execution_count": 42,
      "outputs": [
        {
          "output_type": "execute_result",
          "data": {
            "text/plain": [
              "array([[[[nan],\n",
              "         [nan],\n",
              "         [nan],\n",
              "         ...,\n",
              "         [nan],\n",
              "         [nan],\n",
              "         [nan]],\n",
              "\n",
              "        [[nan],\n",
              "         [nan],\n",
              "         [nan],\n",
              "         ...,\n",
              "         [nan],\n",
              "         [nan],\n",
              "         [nan]],\n",
              "\n",
              "        [[nan],\n",
              "         [nan],\n",
              "         [nan],\n",
              "         ...,\n",
              "         [nan],\n",
              "         [nan],\n",
              "         [nan]],\n",
              "\n",
              "        ...,\n",
              "\n",
              "        [[nan],\n",
              "         [nan],\n",
              "         [nan],\n",
              "         ...,\n",
              "         [nan],\n",
              "         [nan],\n",
              "         [nan]],\n",
              "\n",
              "        [[nan],\n",
              "         [nan],\n",
              "         [nan],\n",
              "         ...,\n",
              "         [nan],\n",
              "         [nan],\n",
              "         [nan]],\n",
              "\n",
              "        [[nan],\n",
              "         [nan],\n",
              "         [nan],\n",
              "         ...,\n",
              "         [nan],\n",
              "         [nan],\n",
              "         [nan]]],\n",
              "\n",
              "\n",
              "       [[[nan],\n",
              "         [nan],\n",
              "         [nan],\n",
              "         ...,\n",
              "         [nan],\n",
              "         [nan],\n",
              "         [nan]],\n",
              "\n",
              "        [[nan],\n",
              "         [nan],\n",
              "         [nan],\n",
              "         ...,\n",
              "         [nan],\n",
              "         [nan],\n",
              "         [nan]],\n",
              "\n",
              "        [[nan],\n",
              "         [nan],\n",
              "         [nan],\n",
              "         ...,\n",
              "         [nan],\n",
              "         [nan],\n",
              "         [nan]],\n",
              "\n",
              "        ...,\n",
              "\n",
              "        [[nan],\n",
              "         [nan],\n",
              "         [nan],\n",
              "         ...,\n",
              "         [nan],\n",
              "         [nan],\n",
              "         [nan]],\n",
              "\n",
              "        [[nan],\n",
              "         [nan],\n",
              "         [nan],\n",
              "         ...,\n",
              "         [nan],\n",
              "         [nan],\n",
              "         [nan]],\n",
              "\n",
              "        [[nan],\n",
              "         [nan],\n",
              "         [nan],\n",
              "         ...,\n",
              "         [nan],\n",
              "         [nan],\n",
              "         [nan]]],\n",
              "\n",
              "\n",
              "       [[[nan],\n",
              "         [nan],\n",
              "         [nan],\n",
              "         ...,\n",
              "         [nan],\n",
              "         [nan],\n",
              "         [nan]],\n",
              "\n",
              "        [[nan],\n",
              "         [nan],\n",
              "         [nan],\n",
              "         ...,\n",
              "         [nan],\n",
              "         [nan],\n",
              "         [nan]],\n",
              "\n",
              "        [[nan],\n",
              "         [nan],\n",
              "         [nan],\n",
              "         ...,\n",
              "         [nan],\n",
              "         [nan],\n",
              "         [nan]],\n",
              "\n",
              "        ...,\n",
              "\n",
              "        [[nan],\n",
              "         [nan],\n",
              "         [nan],\n",
              "         ...,\n",
              "         [nan],\n",
              "         [nan],\n",
              "         [nan]],\n",
              "\n",
              "        [[nan],\n",
              "         [nan],\n",
              "         [nan],\n",
              "         ...,\n",
              "         [nan],\n",
              "         [nan],\n",
              "         [nan]],\n",
              "\n",
              "        [[nan],\n",
              "         [nan],\n",
              "         [nan],\n",
              "         ...,\n",
              "         [nan],\n",
              "         [nan],\n",
              "         [nan]]],\n",
              "\n",
              "\n",
              "       ...,\n",
              "\n",
              "\n",
              "       [[[nan],\n",
              "         [nan],\n",
              "         [nan],\n",
              "         ...,\n",
              "         [nan],\n",
              "         [nan],\n",
              "         [nan]],\n",
              "\n",
              "        [[nan],\n",
              "         [nan],\n",
              "         [nan],\n",
              "         ...,\n",
              "         [nan],\n",
              "         [nan],\n",
              "         [nan]],\n",
              "\n",
              "        [[nan],\n",
              "         [nan],\n",
              "         [nan],\n",
              "         ...,\n",
              "         [nan],\n",
              "         [nan],\n",
              "         [nan]],\n",
              "\n",
              "        ...,\n",
              "\n",
              "        [[nan],\n",
              "         [nan],\n",
              "         [nan],\n",
              "         ...,\n",
              "         [nan],\n",
              "         [nan],\n",
              "         [nan]],\n",
              "\n",
              "        [[nan],\n",
              "         [nan],\n",
              "         [nan],\n",
              "         ...,\n",
              "         [nan],\n",
              "         [nan],\n",
              "         [nan]],\n",
              "\n",
              "        [[nan],\n",
              "         [nan],\n",
              "         [nan],\n",
              "         ...,\n",
              "         [nan],\n",
              "         [nan],\n",
              "         [nan]]],\n",
              "\n",
              "\n",
              "       [[[nan],\n",
              "         [nan],\n",
              "         [nan],\n",
              "         ...,\n",
              "         [nan],\n",
              "         [nan],\n",
              "         [nan]],\n",
              "\n",
              "        [[nan],\n",
              "         [nan],\n",
              "         [nan],\n",
              "         ...,\n",
              "         [nan],\n",
              "         [nan],\n",
              "         [nan]],\n",
              "\n",
              "        [[nan],\n",
              "         [nan],\n",
              "         [nan],\n",
              "         ...,\n",
              "         [nan],\n",
              "         [nan],\n",
              "         [nan]],\n",
              "\n",
              "        ...,\n",
              "\n",
              "        [[nan],\n",
              "         [nan],\n",
              "         [nan],\n",
              "         ...,\n",
              "         [nan],\n",
              "         [nan],\n",
              "         [nan]],\n",
              "\n",
              "        [[nan],\n",
              "         [nan],\n",
              "         [nan],\n",
              "         ...,\n",
              "         [nan],\n",
              "         [nan],\n",
              "         [nan]],\n",
              "\n",
              "        [[nan],\n",
              "         [nan],\n",
              "         [nan],\n",
              "         ...,\n",
              "         [nan],\n",
              "         [nan],\n",
              "         [nan]]],\n",
              "\n",
              "\n",
              "       [[[nan],\n",
              "         [nan],\n",
              "         [nan],\n",
              "         ...,\n",
              "         [nan],\n",
              "         [nan],\n",
              "         [nan]],\n",
              "\n",
              "        [[nan],\n",
              "         [nan],\n",
              "         [nan],\n",
              "         ...,\n",
              "         [nan],\n",
              "         [nan],\n",
              "         [nan]],\n",
              "\n",
              "        [[nan],\n",
              "         [nan],\n",
              "         [nan],\n",
              "         ...,\n",
              "         [nan],\n",
              "         [nan],\n",
              "         [nan]],\n",
              "\n",
              "        ...,\n",
              "\n",
              "        [[nan],\n",
              "         [nan],\n",
              "         [nan],\n",
              "         ...,\n",
              "         [nan],\n",
              "         [nan],\n",
              "         [nan]],\n",
              "\n",
              "        [[nan],\n",
              "         [nan],\n",
              "         [nan],\n",
              "         ...,\n",
              "         [nan],\n",
              "         [nan],\n",
              "         [nan]],\n",
              "\n",
              "        [[nan],\n",
              "         [nan],\n",
              "         [nan],\n",
              "         ...,\n",
              "         [nan],\n",
              "         [nan],\n",
              "         [nan]]]], dtype=float32)"
            ]
          },
          "metadata": {},
          "execution_count": 42
        }
      ]
    },
    {
      "cell_type": "markdown",
      "metadata": {
        "id": "allZVOeXTPgQ"
      },
      "source": [
        "## Variational autoencoder"
      ]
    },
    {
      "cell_type": "markdown",
      "metadata": {
        "id": "nwO1O2WbTPgQ"
      },
      "source": [
        "Como hemos visto en teoría un autoencoder toma una imagen, la mapea a un espacio vectorial subyacente por medio de un encoder, y seguidamente la decodifica a una salida con el tamaño de la imagen original. En la práctica, los autoencoders no son especialmente útiles, y han sido reemplazados por los variational autoencoders (o VAEs).\n",
        "\n",
        "Un VAE en lugar de comprimir la imagen en un vector fijo en el espacio subyacente, la convierte a los parámetros de una distribución estadística (representada mediante una media y una varianza). Esencialmente, esto significa que asumimos que la imagen original ha sido generada mediante un proceso estadístico, y que la aleatoriedad de dicho proceso debe ser tomada en cuenta a la hora de proceso de codificación y decodificación. \n",
        "\n",
        "Un VAE usa los parámetros de media y varianza para tomar una muestra aleatoria de un elemento de la distribución, y decodifica dicho elemento de vuelta. Esto hace que mejore la robusted y fuerza a que el espacio subyacente obtenga representaciones significativas (notar que cualquier muestra de la distribución tiene que ser decodificada a una salida valida)."
      ]
    },
    {
      "cell_type": "markdown",
      "metadata": {
        "id": "NCQoP4XRTPgR"
      },
      "source": [
        "Desde el punto de vista técnico, un VAE funciona del siguiente modo:\n",
        "1. Un encoder convierte la entrada en dos parámetros de un espacio subyacente de representaciones que denotaremos por `z_mean` y `z_log_var`.\n",
        "2. Tomamos una muestra aleatoria `z` de la distribución normal que asumimos que genera la imagen de entrada mediante la fórmula `z = z_mean + exp(z_log_var)*epsilon` donde `epsilon` es un valor aleatorio pequeño.\n",
        "3. La muestra `z` se decodifica.  Al tomar `epsilon` de manera aleatoria y con valor pequeño, el proceso asegura que cada punto que está cerca de la localización subyacente de la imagen puede ser decodificado a algo similar a la imagen de entrada. \n",
        "\n",
        "Para entrenar un VAE se usan dos funciones de pérdida: una que es la función de pérdida de reconstrucción que fuerza a que las muestras decodificadas se ajusten a las entradas iniciales, y una función de pérdida de regularización que ayuda a una formación correcta de los espacios subyacentes y a que no se produzca sobreajuste. "
      ]
    },
    {
      "cell_type": "markdown",
      "metadata": {
        "id": "rAtfCLGsTPgS"
      },
      "source": [
        "### Capa de Sampling"
      ]
    },
    {
      "cell_type": "markdown",
      "metadata": {
        "id": "SiJKnGvoTPgS"
      },
      "source": [
        "Lo primero que vamos a definir es una nueva capa encargada de tomar una muestra aleatoria a partir de los valores de `z_mean` y `z_log_var`. Para ello debemos definir una nueva clase que hereda de la clase `Layer` de Keras y definir la función `call`."
      ]
    },
    {
      "cell_type": "code",
      "metadata": {
        "id": "DMP9mar3TPgS"
      },
      "source": [
        "import numpy as np\n",
        "import tensorflow as tf\n",
        "from tensorflow import keras\n",
        "from tensorflow.keras import layers\n",
        "\n",
        "class Sampling(layers.Layer):\n",
        "    def call(self, inputs):\n",
        "        z_mean, z_log_var = inputs\n",
        "        batch = tf.shape(z_mean)[0]\n",
        "        dim = tf.shape(z_mean)[1]\n",
        "        epsilon = tf.keras.backend.random_normal(shape=(batch, dim))\n",
        "        return z_mean + tf.exp(0.5 * z_log_var) * epsilon"
      ],
      "execution_count": 34,
      "outputs": []
    },
    {
      "cell_type": "markdown",
      "metadata": {
        "id": "y0n7bLQTVkrZ"
      },
      "source": [
        "### Capa de Sampling"
      ]
    },
    {
      "cell_type": "markdown",
      "metadata": {
        "id": "O3QKVlY1VkrZ"
      },
      "source": [
        "Lo primero que vamos a definir es una nueva capa encargada de tomar una muestra aleatoria a partir de los valores de `z_mean` y `z_log_var`. Para ello debemos definir una nueva clase que hereda de la clase `Layer` de Keras y definir la función `call`."
      ]
    },
    {
      "cell_type": "code",
      "metadata": {
        "id": "uu7jvX3AVkra"
      },
      "source": [
        "import numpy as np\n",
        "import tensorflow as tf\n",
        "from tensorflow import keras\n",
        "from tensorflow.keras import layers\n",
        "\n",
        "class Sampling(layers.Layer):\n",
        "    def call(self, inputs):\n",
        "        z_mean, z_log_var = inputs\n",
        "        batch = tf.shape(z_mean)[0]\n",
        "        dim = tf.shape(z_mean)[1]\n",
        "        epsilon = tf.keras.backend.random_normal(shape=(batch, dim))\n",
        "        return z_mean + tf.exp(0.5 * z_log_var) * epsilon"
      ],
      "execution_count": 35,
      "outputs": []
    },
    {
      "cell_type": "markdown",
      "metadata": {
        "id": "X66zj4TuTPgT"
      },
      "source": [
        "### Encoder\n",
        "\n",
        "El encoder va a ser similar al encoder que vimos para el autoencoder, la principal diferencia es que va a producir dos vectores de salida, `z_mean` y `z_log_var`."
      ]
    },
    {
      "cell_type": "code",
      "metadata": {
        "id": "uzFoY13cTPgT",
        "outputId": "7ddb215f-dfb8-48d2-be50-54eeacbc1164",
        "colab": {
          "base_uri": "https://localhost:8080/"
        }
      },
      "source": [
        "latent_dim = 2\n",
        "\n",
        "encoder_inputs = keras.Input(shape=(28, 28, 1))\n",
        "x = layers.Conv2D(32, 3, activation=\"relu\", strides=2, padding=\"same\")(encoder_inputs)\n",
        "x = layers.Conv2D(64, 3, activation=\"relu\", strides=2, padding=\"same\")(x)\n",
        "x = layers.Flatten()(x)\n",
        "x = layers.Dense(16, activation=\"relu\")(x)\n",
        "z_mean = layers.Dense(latent_dim, name=\"z_mean\")(x)\n",
        "z_log_var = layers.Dense(latent_dim, name=\"z_log_var\")(x)\n",
        "z = Sampling()([z_mean, z_log_var])\n",
        "encoder = keras.Model(encoder_inputs, [z_mean, z_log_var, z], name=\"encoder\")\n",
        "encoder.summary()"
      ],
      "execution_count": 36,
      "outputs": [
        {
          "output_type": "stream",
          "name": "stdout",
          "text": [
            "Model: \"encoder\"\n",
            "__________________________________________________________________________________________________\n",
            " Layer (type)                   Output Shape         Param #     Connected to                     \n",
            "==================================================================================================\n",
            " input_2 (InputLayer)           [(None, 28, 28, 1)]  0           []                               \n",
            "                                                                                                  \n",
            " conv2d_5 (Conv2D)              (None, 14, 14, 32)   320         ['input_2[0][0]']                \n",
            "                                                                                                  \n",
            " conv2d_6 (Conv2D)              (None, 7, 7, 64)     18496       ['conv2d_5[0][0]']               \n",
            "                                                                                                  \n",
            " flatten (Flatten)              (None, 3136)         0           ['conv2d_6[0][0]']               \n",
            "                                                                                                  \n",
            " dense (Dense)                  (None, 16)           50192       ['flatten[0][0]']                \n",
            "                                                                                                  \n",
            " z_mean (Dense)                 (None, 2)            34          ['dense[0][0]']                  \n",
            "                                                                                                  \n",
            " z_log_var (Dense)              (None, 2)            34          ['dense[0][0]']                  \n",
            "                                                                                                  \n",
            " sampling (Sampling)            (None, 2)            0           ['z_mean[0][0]',                 \n",
            "                                                                  'z_log_var[0][0]']              \n",
            "                                                                                                  \n",
            "==================================================================================================\n",
            "Total params: 69,076\n",
            "Trainable params: 69,076\n",
            "Non-trainable params: 0\n",
            "__________________________________________________________________________________________________\n"
          ]
        }
      ]
    },
    {
      "cell_type": "markdown",
      "metadata": {
        "id": "q2sfDpESTPgT"
      },
      "source": [
        "### Decoder\n",
        "\n",
        "Ahora podemos definir el decoder, utilizando una arquitectura simétrica al encoder. "
      ]
    },
    {
      "cell_type": "code",
      "metadata": {
        "id": "MRrLSrBdTPgT",
        "outputId": "092dfb5a-b5ce-4072-a89f-995c77679dd4",
        "colab": {
          "base_uri": "https://localhost:8080/"
        }
      },
      "source": [
        "latent_inputs = keras.Input(shape=(latent_dim,))\n",
        "x = layers.Dense(7 * 7 * 64, activation=\"relu\")(latent_inputs)\n",
        "x = layers.Reshape((7, 7, 64))(x)\n",
        "x = layers.Conv2DTranspose(64, 3, activation=\"relu\", strides=2, padding=\"same\")(x)\n",
        "x = layers.Conv2DTranspose(32, 3, activation=\"relu\", strides=2, padding=\"same\")(x)\n",
        "decoder_outputs = layers.Conv2DTranspose(1, 3, activation=\"sigmoid\", padding=\"same\")(x)\n",
        "decoder = keras.Model(latent_inputs, decoder_outputs, name=\"decoder\")\n",
        "decoder.summary()"
      ],
      "execution_count": 37,
      "outputs": [
        {
          "output_type": "stream",
          "name": "stdout",
          "text": [
            "Model: \"decoder\"\n",
            "_________________________________________________________________\n",
            " Layer (type)                Output Shape              Param #   \n",
            "=================================================================\n",
            " input_3 (InputLayer)        [(None, 2)]               0         \n",
            "                                                                 \n",
            " dense_1 (Dense)             (None, 3136)              9408      \n",
            "                                                                 \n",
            " reshape (Reshape)           (None, 7, 7, 64)          0         \n",
            "                                                                 \n",
            " conv2d_transpose (Conv2DTra  (None, 14, 14, 64)       36928     \n",
            " nspose)                                                         \n",
            "                                                                 \n",
            " conv2d_transpose_1 (Conv2DT  (None, 28, 28, 32)       18464     \n",
            " ranspose)                                                       \n",
            "                                                                 \n",
            " conv2d_transpose_2 (Conv2DT  (None, 28, 28, 1)        289       \n",
            " ranspose)                                                       \n",
            "                                                                 \n",
            "=================================================================\n",
            "Total params: 65,089\n",
            "Trainable params: 65,089\n",
            "Non-trainable params: 0\n",
            "_________________________________________________________________\n"
          ]
        }
      ]
    },
    {
      "cell_type": "markdown",
      "metadata": {
        "id": "Gq4OMg5eTPgU"
      },
      "source": [
        "Por último vamos a definir un nuevo modelo que une nuestro encoder y decoder definidos anteriormente, y definimos nuestra función de pérdida que va a tener en cuenta la función de pérdida de reconstrucción y la función de pérdida de regularización. Para ello debemos definir una nueva clase que herede de `Model`."
      ]
    },
    {
      "cell_type": "code",
      "metadata": {
        "id": "O1dh5xScTPgU"
      },
      "source": [
        "class VAE(keras.Model):\n",
        "    def __init__(self, encoder, decoder, **kwargs):\n",
        "        super(VAE, self).__init__(**kwargs)\n",
        "        self.encoder = encoder\n",
        "        self.decoder = decoder\n",
        "        self.total_loss_tracker = keras.metrics.Mean(name=\"total_loss\")\n",
        "        self.reconstruction_loss_tracker = keras.metrics.Mean(\n",
        "            name=\"reconstruction_loss\"\n",
        "        )\n",
        "        self.kl_loss_tracker = keras.metrics.Mean(name=\"kl_loss\")\n",
        "\n",
        "    @property\n",
        "    def metrics(self):\n",
        "        return [\n",
        "            self.total_loss_tracker,\n",
        "            self.reconstruction_loss_tracker,\n",
        "            self.kl_loss_tracker,\n",
        "        ]\n",
        "\n",
        "    def train_step(self, data):\n",
        "        with tf.GradientTape() as tape:\n",
        "            z_mean, z_log_var, z = self.encoder(data)\n",
        "            reconstruction = self.decoder(z)\n",
        "            reconstruction_loss = tf.reduce_mean(\n",
        "                tf.reduce_sum(\n",
        "                    keras.losses.binary_crossentropy(data, reconstruction), axis=(1, 2)\n",
        "                )\n",
        "            )\n",
        "            kl_loss = -0.5 * (1 + z_log_var - tf.square(z_mean) - tf.exp(z_log_var))\n",
        "            kl_loss = tf.reduce_mean(tf.reduce_sum(kl_loss, axis=1))\n",
        "            total_loss = reconstruction_loss + kl_loss\n",
        "        grads = tape.gradient(total_loss, self.trainable_weights)\n",
        "        self.optimizer.apply_gradients(zip(grads, self.trainable_weights))\n",
        "        self.total_loss_tracker.update_state(total_loss)\n",
        "        self.reconstruction_loss_tracker.update_state(reconstruction_loss)\n",
        "        self.kl_loss_tracker.update_state(kl_loss)\n",
        "        return {\n",
        "            \"loss\": self.total_loss_tracker.result(),\n",
        "            \"reconstruction_loss\": self.reconstruction_loss_tracker.result(),\n",
        "            \"kl_loss\": self.kl_loss_tracker.result(),\n",
        "        }"
      ],
      "execution_count": 38,
      "outputs": []
    },
    {
      "cell_type": "markdown",
      "metadata": {
        "id": "Qt1NLzhITPgU"
      },
      "source": [
        "### Entrenamiento\n",
        "\n",
        "Finalmente, instanciamos el modelo y lo compilamos. Notar que no es necesario definir una función de pérdida de manera explícita ya que la hemos definido anteriormente. Esto supone que a la hora de entrenar el modelo no hará falta proporcionar la salida espera del modelo ya que es la misma que la entrada y de ello se encarga la capa definida anteriormente. "
      ]
    },
    {
      "cell_type": "code",
      "metadata": {
        "id": "7-OqZ1MMTPgU"
      },
      "source": [
        "vae = VAE(encoder, decoder)\n",
        "vae.compile(optimizer=keras.optimizers.Adam())"
      ],
      "execution_count": 39,
      "outputs": []
    },
    {
      "cell_type": "code",
      "source": [
        "x_train.shape"
      ],
      "metadata": {
        "id": "6AhsI60oLxf3",
        "outputId": "78425c54-818c-485d-f049-115ad8e5e268",
        "colab": {
          "base_uri": "https://localhost:8080/"
        }
      },
      "execution_count": 40,
      "outputs": [
        {
          "output_type": "execute_result",
          "data": {
            "text/plain": [
              "(520635, 28, 28, 1)"
            ]
          },
          "metadata": {},
          "execution_count": 40
        }
      ]
    },
    {
      "cell_type": "markdown",
      "metadata": {
        "id": "2iAlpBj5TPgU"
      },
      "source": [
        "Podemos ahora entrenar el modelo para lo que vamos a juntar los conjuntos de entrenamiento y test de MNIST. "
      ]
    },
    {
      "cell_type": "code",
      "metadata": {
        "id": "NP1U5k7fTPgU",
        "colab": {
          "base_uri": "https://localhost:8080/",
          "height": 363
        },
        "outputId": "0f69eebb-e084-4394-db26-5d0053965248"
      },
      "source": [
        "random_digits = np.concatenate([x_train, x_test], axis=0)\n",
        "random_digits = np.expand_dims(random_digits, -1)\n",
        "\n",
        "vae.fit(random_digits, epochs=20, batch_size=128)"
      ],
      "execution_count": 51,
      "outputs": [
        {
          "output_type": "stream",
          "name": "stdout",
          "text": [
            "Epoch 1/20\n"
          ]
        },
        {
          "output_type": "error",
          "ename": "ValueError",
          "evalue": "ignored",
          "traceback": [
            "\u001b[0;31m---------------------------------------------------------------------------\u001b[0m",
            "\u001b[0;31mValueError\u001b[0m                                Traceback (most recent call last)",
            "\u001b[0;32m<ipython-input-51-bd60ed94cc13>\u001b[0m in \u001b[0;36m<cell line: 4>\u001b[0;34m()\u001b[0m\n\u001b[1;32m      2\u001b[0m \u001b[0mrandom_digits\u001b[0m \u001b[0;34m=\u001b[0m \u001b[0mnp\u001b[0m\u001b[0;34m.\u001b[0m\u001b[0mexpand_dims\u001b[0m\u001b[0;34m(\u001b[0m\u001b[0mrandom_digits\u001b[0m\u001b[0;34m,\u001b[0m \u001b[0;34m-\u001b[0m\u001b[0;36m1\u001b[0m\u001b[0;34m)\u001b[0m\u001b[0;34m\u001b[0m\u001b[0;34m\u001b[0m\u001b[0m\n\u001b[1;32m      3\u001b[0m \u001b[0;34m\u001b[0m\u001b[0m\n\u001b[0;32m----> 4\u001b[0;31m \u001b[0mvae\u001b[0m\u001b[0;34m.\u001b[0m\u001b[0mfit\u001b[0m\u001b[0;34m(\u001b[0m\u001b[0mrandom_digits\u001b[0m\u001b[0;34m,\u001b[0m \u001b[0mepochs\u001b[0m\u001b[0;34m=\u001b[0m\u001b[0;36m20\u001b[0m\u001b[0;34m,\u001b[0m \u001b[0mbatch_size\u001b[0m\u001b[0;34m=\u001b[0m\u001b[0;36m128\u001b[0m\u001b[0;34m)\u001b[0m\u001b[0;34m\u001b[0m\u001b[0;34m\u001b[0m\u001b[0m\n\u001b[0m",
            "\u001b[0;32m/usr/local/lib/python3.9/dist-packages/keras/utils/traceback_utils.py\u001b[0m in \u001b[0;36merror_handler\u001b[0;34m(*args, **kwargs)\u001b[0m\n\u001b[1;32m     68\u001b[0m             \u001b[0;31m# To get the full stack trace, call:\u001b[0m\u001b[0;34m\u001b[0m\u001b[0;34m\u001b[0m\u001b[0m\n\u001b[1;32m     69\u001b[0m             \u001b[0;31m# `tf.debugging.disable_traceback_filtering()`\u001b[0m\u001b[0;34m\u001b[0m\u001b[0;34m\u001b[0m\u001b[0m\n\u001b[0;32m---> 70\u001b[0;31m             \u001b[0;32mraise\u001b[0m \u001b[0me\u001b[0m\u001b[0;34m.\u001b[0m\u001b[0mwith_traceback\u001b[0m\u001b[0;34m(\u001b[0m\u001b[0mfiltered_tb\u001b[0m\u001b[0;34m)\u001b[0m \u001b[0;32mfrom\u001b[0m \u001b[0;32mNone\u001b[0m\u001b[0;34m\u001b[0m\u001b[0;34m\u001b[0m\u001b[0m\n\u001b[0m\u001b[1;32m     71\u001b[0m         \u001b[0;32mfinally\u001b[0m\u001b[0;34m:\u001b[0m\u001b[0;34m\u001b[0m\u001b[0;34m\u001b[0m\u001b[0m\n\u001b[1;32m     72\u001b[0m             \u001b[0;32mdel\u001b[0m \u001b[0mfiltered_tb\u001b[0m\u001b[0;34m\u001b[0m\u001b[0;34m\u001b[0m\u001b[0m\n",
            "\u001b[0;32m/usr/local/lib/python3.9/dist-packages/tensorflow/python/eager/polymorphic_function/polymorphic_function.py\u001b[0m in \u001b[0;36m_call\u001b[0;34m(self, *args, **kwds)\u001b[0m\n\u001b[1;32m    933\u001b[0m       \u001b[0mresults\u001b[0m \u001b[0;34m=\u001b[0m \u001b[0mself\u001b[0m\u001b[0;34m.\u001b[0m\u001b[0m_variable_creation_fn\u001b[0m\u001b[0;34m(\u001b[0m\u001b[0;34m*\u001b[0m\u001b[0margs\u001b[0m\u001b[0;34m,\u001b[0m \u001b[0;34m**\u001b[0m\u001b[0mkwds\u001b[0m\u001b[0;34m)\u001b[0m\u001b[0;34m\u001b[0m\u001b[0;34m\u001b[0m\u001b[0m\n\u001b[1;32m    934\u001b[0m       \u001b[0;32mif\u001b[0m \u001b[0mself\u001b[0m\u001b[0;34m.\u001b[0m\u001b[0m_created_variables\u001b[0m \u001b[0;32mand\u001b[0m \u001b[0;32mnot\u001b[0m \u001b[0mALLOW_DYNAMIC_VARIABLE_CREATION\u001b[0m\u001b[0;34m:\u001b[0m\u001b[0;34m\u001b[0m\u001b[0;34m\u001b[0m\u001b[0m\n\u001b[0;32m--> 935\u001b[0;31m         raise ValueError(\"Creating variables on a non-first call to a function\"\n\u001b[0m\u001b[1;32m    936\u001b[0m                          \" decorated with tf.function.\")\n\u001b[1;32m    937\u001b[0m       \u001b[0;32mreturn\u001b[0m \u001b[0mresults\u001b[0m\u001b[0;34m\u001b[0m\u001b[0;34m\u001b[0m\u001b[0m\n",
            "\u001b[0;31mValueError\u001b[0m: Creating variables on a non-first call to a function decorated with tf.function."
          ]
        }
      ]
    },
    {
      "cell_type": "code",
      "source": [
        "random_digits.shape"
      ],
      "metadata": {
        "id": "s_CzQ786MygQ"
      },
      "execution_count": null,
      "outputs": []
    },
    {
      "cell_type": "markdown",
      "metadata": {
        "id": "v1w1PFq_TPgU"
      },
      "source": [
        "Una vez que el modelo se ha entrenado, podemos usar el decoder para convertir puntos aleatorios del espacio subyacente en imágenes. "
      ]
    },
    {
      "cell_type": "code",
      "metadata": {
        "id": "d_Ew5ZRKTPgV"
      },
      "source": [
        "import matplotlib.pyplot as plt\n",
        "\n",
        "def plot_latent_space(vae, n=30, figsize=15):\n",
        "    # display a n*n 2D manifold of digits\n",
        "    digit_size = 28\n",
        "    scale = 1.0\n",
        "    figure = np.zeros((digit_size * n, digit_size * n))\n",
        "    # linearly spaced coordinates corresponding to the 2D plot\n",
        "    # of digit classes in the latent space\n",
        "    grid_x = np.linspace(-scale, scale, n)\n",
        "    grid_y = np.linspace(-scale, scale, n)[::-1]\n",
        "\n",
        "    for i, yi in enumerate(grid_y):\n",
        "        for j, xi in enumerate(grid_x):\n",
        "            z_sample = np.array([[xi, yi]])\n",
        "            x_decoded = vae.decoder.predict(z_sample)\n",
        "            digit = x_decoded[0].reshape(digit_size, digit_size)\n",
        "            figure[\n",
        "                i * digit_size : (i + 1) * digit_size,\n",
        "                j * digit_size : (j + 1) * digit_size,\n",
        "            ] = digit\n",
        "\n",
        "    plt.figure(figsize=(figsize, figsize))\n",
        "    start_range = digit_size // 2\n",
        "    end_range = n * digit_size + start_range\n",
        "    pixel_range = np.arange(start_range, end_range, digit_size)\n",
        "    sample_range_x = np.round(grid_x, 1)\n",
        "    sample_range_y = np.round(grid_y, 1)\n",
        "    plt.xticks(pixel_range, sample_range_x)\n",
        "    plt.yticks(pixel_range, sample_range_y)\n",
        "    plt.xlabel(\"z[0]\")\n",
        "    plt.ylabel(\"z[1]\")\n",
        "    plt.imshow(figure, cmap=\"Greys_r\")\n",
        "    plt.show()\n",
        "\n",
        "\n",
        "plot_latent_space(vae)"
      ],
      "execution_count": null,
      "outputs": []
    },
    {
      "cell_type": "markdown",
      "metadata": {
        "id": "NWfE4ILKTPgW"
      },
      "source": [
        "La cuadrícula anterior muestra una distribución continua de los dígitos de las distintas clases, y se puede ver cómo un dígito se transforma en otro al seguir un camino a través del espacio subyacente. Notar que hay direcciones subyacentes que tienen significado (como cuatri-ficar o uni-ficar)."
      ]
    },
    {
      "cell_type": "markdown",
      "metadata": {
        "id": "NEl3_N3rTPgW"
      },
      "source": [
        "Por último podemos ver los clústeres del espacio subyacente asociados a cada clase. "
      ]
    },
    {
      "cell_type": "code",
      "metadata": {
        "collapsed": true,
        "id": "v5NuxIB4TPgW"
      },
      "source": [
        "def plot_label_clusters(vae, data, labels):\n",
        "    # display a 2D plot of the digit classes in the latent space\n",
        "    z_mean, _, _ = encoder.predict(data)\n",
        "    plt.figure(figsize=(12, 10))\n",
        "    plt.scatter(z_mean[:, 0], z_mean[:, 1], c=labels)\n",
        "    plt.colorbar()\n",
        "    plt.xlabel(\"z[0]\")\n",
        "    plt.ylabel(\"z[1]\")\n",
        "    plt.set_cmap('viridis')\n",
        "    plt.show()\n",
        "\n",
        "\n",
        "(x_train, y_train), _ = keras.datasets.mnist.load_data()\n",
        "x_train = np.expand_dims(x_train, -1).astype(\"float32\") / 255\n",
        "\n",
        "plot_label_clusters(vae, x_train, y_train)"
      ],
      "execution_count": null,
      "outputs": []
    }
  ]
}